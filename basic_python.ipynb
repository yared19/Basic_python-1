{
 "cells": [
  {
   "cell_type": "code",
   "execution_count": null,
   "metadata": {},
   "outputs": [],
   "source": [
    "#Single line comment.....\n",
    "def greet_customer():\n",
    "    print(\"Welcome to the bank!\")\n",
    "\n",
    "\n",
    "#Multi \n",
    "#line \n",
    "#comments \n"
   ]
  },
  {
   "cell_type": "code",
   "execution_count": 19,
   "metadata": {},
   "outputs": [],
   "source": [
    "# Using snake_case for variable names\n",
    "account_balance = 5000\n",
    "# Using camelCase for variable names\n",
    "interestRate = 0.06"
   ]
  },
  {
   "cell_type": "code",
   "execution_count": 20,
   "metadata": {},
   "outputs": [
    {
     "name": "stdout",
     "output_type": "stream",
     "text": [
      "Hello, asdfa!\n"
     ]
    }
   ],
   "source": [
    "name = input(\"Enter your name: \")\n",
    "print(f\"Hello, {name}!\")"
   ]
  },
  {
   "cell_type": "code",
   "execution_count": 21,
   "metadata": {},
   "outputs": [
    {
     "name": "stdout",
     "output_type": "stream",
     "text": [
      "That's not a valid number!\n"
     ]
    }
   ],
   "source": [
    "try:\n",
    "    value = int(input(\"Enter a number: \"))\n",
    "    print(f\"The number is {value}\")\n",
    "except ValueError:\n",
    "    print(\"That's not a valid number!\")"
   ]
  },
  {
   "cell_type": "code",
   "execution_count": 22,
   "metadata": {},
   "outputs": [
    {
     "ename": "ValueError",
     "evalue": "could not convert string to float: 'asdf'",
     "output_type": "error",
     "traceback": [
      "\u001b[0;31m---------------------------------------------------------------------------\u001b[0m",
      "\u001b[0;31mValueError\u001b[0m                                Traceback (most recent call last)",
      "Cell \u001b[0;32mIn [22], line 17\u001b[0m\n\u001b[1;32m     15\u001b[0m \u001b[38;5;66;03m# Ensure the script is run directly\u001b[39;00m\n\u001b[1;32m     16\u001b[0m \u001b[38;5;28;01mif\u001b[39;00m \u001b[38;5;18m__name__\u001b[39m \u001b[38;5;241m==\u001b[39m \u001b[38;5;124m\"\u001b[39m\u001b[38;5;124m__main__\u001b[39m\u001b[38;5;124m\"\u001b[39m:\n\u001b[0;32m---> 17\u001b[0m     \u001b[43mmain\u001b[49m\u001b[43m(\u001b[49m\u001b[43m)\u001b[49m\n",
      "Cell \u001b[0;32mIn [22], line 10\u001b[0m, in \u001b[0;36mmain\u001b[0;34m()\u001b[0m\n\u001b[1;32m      8\u001b[0m \u001b[38;5;28;01mdef\u001b[39;00m \u001b[38;5;21mmain\u001b[39m():\n\u001b[1;32m      9\u001b[0m \u001b[38;5;66;03m# Input: radius of the circle\u001b[39;00m\n\u001b[0;32m---> 10\u001b[0m     radius \u001b[38;5;241m=\u001b[39m \u001b[38;5;28;43mfloat\u001b[39;49m\u001b[43m(\u001b[49m\u001b[38;5;28;43minput\u001b[39;49m\u001b[43m(\u001b[49m\u001b[38;5;124;43m\"\u001b[39;49m\u001b[38;5;124;43mEnter the radius of the circle: \u001b[39;49m\u001b[38;5;124;43m\"\u001b[39;49m\u001b[43m)\u001b[49m\u001b[43m)\u001b[49m\n\u001b[1;32m     11\u001b[0m \u001b[38;5;66;03m# Calculate area\u001b[39;00m\n\u001b[1;32m     12\u001b[0m     area \u001b[38;5;241m=\u001b[39m calculate_area(radius)\n",
      "\u001b[0;31mValueError\u001b[0m: could not convert string to float: 'asdf'"
     ]
    }
   ],
   "source": [
    "# A simple Python program to demonstrate key components\n",
    "# Import necessary module\n",
    "import math\n",
    "# Function to calculate the area of a circle\n",
    "def calculate_area(radius):\n",
    "    return math.pi * radius ** 2\n",
    "# Main function to run the program\n",
    "def main():\n",
    "# Input: radius of the circle\n",
    "    radius = float(input(\"Enter the radius of the circle: \"))\n",
    "# Calculate area\n",
    "    area = calculate_area(radius)\n",
    "# Output the result\n",
    "    print(f\"The area of the circle with radius {radius} is:{area:.2f}\")\n",
    "# Ensure the script is run directly\n",
    "if __name__ == \"__main__\":\n",
    "    main()"
   ]
  },
  {
   "cell_type": "code",
   "execution_count": 16,
   "metadata": {},
   "outputs": [
    {
     "name": "stdout",
     "output_type": "stream",
     "text": [
      "Welcome, Fitsum!\n"
     ]
    }
   ],
   "source": [
    "account_holder = \"Fitsum\"\n",
    "account_message = f\"Welcome, {account_holder}!\"\n",
    "print(account_message) # Output: Welcome, Alice!"
   ]
  },
  {
   "cell_type": "code",
   "execution_count": null,
   "metadata": {},
   "outputs": [],
   "source": []
  },
  {
   "cell_type": "code",
   "execution_count": null,
   "metadata": {},
   "outputs": [],
   "source": [
    "balance = 2500.75 # float\n",
    "transaction_count = 5 # integer"
   ]
  },
  {
   "cell_type": "code",
   "execution_count": 17,
   "metadata": {},
   "outputs": [
    {
     "name": "stdout",
     "output_type": "stream",
     "text": [
      "Thank you John Doe for your transaction of $200.50.\n"
     ]
    }
   ],
   "source": [
    "# Formatting a message to display a transaction receipt\n",
    "account_name = \"John Doe\"\n",
    "transaction = 200.50\n",
    "receipt = f\"Thank you {account_name} for your transaction of ${transaction:.2f}.\"\n",
    "print(receipt) "
   ]
  },
  {
   "cell_type": "code",
   "execution_count": 23,
   "metadata": {},
   "outputs": [
    {
     "name": "stdout",
     "output_type": "stream",
     "text": [
      "Interest after 2 years: 500.0\n"
     ]
    }
   ],
   "source": [
    "# Calculating simple interest\n",
    "principal = 5000 # Initial amount\n",
    "rate = 0.05 # 5% interest\n",
    "time = 2 # in years\n",
    "interest = principal * rate * time\n",
    "print(\"Interest after 2 years:\", interest)\n"
   ]
  },
  {
   "cell_type": "code",
   "execution_count": 24,
   "metadata": {},
   "outputs": [
    {
     "name": "stdout",
     "output_type": "stream",
     "text": [
      "Qualifies for loan: True\n"
     ]
    }
   ],
   "source": [
    "# Check if the user qualifies for a loan\n",
    "has_good_credit = True\n",
    "has_sufficient_income = True\n",
    "qualifies_for_loan = has_good_credit and has_sufficient_income\n",
    "print(\"Qualifies for loan:\", qualifies_for_loan)"
   ]
  },
  {
   "cell_type": "markdown",
   "metadata": {},
   "source": [
    "Write a program to take the principal, rate, and time as inputs and calculate simple interest."
   ]
  },
  {
   "cell_type": "code",
   "execution_count": 27,
   "metadata": {},
   "outputs": [
    {
     "ename": "TypeError",
     "evalue": "can't multiply sequence by non-int of type 'float'",
     "output_type": "error",
     "traceback": [
      "\u001b[0;31m---------------------------------------------------------------------------\u001b[0m",
      "\u001b[0;31mTypeError\u001b[0m                                 Traceback (most recent call last)",
      "Cell \u001b[0;32mIn [27], line 5\u001b[0m\n\u001b[1;32m      3\u001b[0m rate \u001b[38;5;241m=\u001b[39m \u001b[38;5;28mfloat\u001b[39m(\u001b[38;5;28minput\u001b[39m(\u001b[38;5;124m\"\u001b[39m\u001b[38;5;124mEnter interest rate:\u001b[39m\u001b[38;5;124m\"\u001b[39m)) \u001b[38;5;66;03m# 5% interest\u001b[39;00m\n\u001b[1;32m      4\u001b[0m time \u001b[38;5;241m=\u001b[39m \u001b[38;5;28mint\u001b[39m(\u001b[38;5;28minput\u001b[39m(\u001b[38;5;124m\"\u001b[39m\u001b[38;5;124mEnter the number of years:\u001b[39m\u001b[38;5;124m\"\u001b[39m)) \u001b[38;5;66;03m# in years\u001b[39;00m\n\u001b[0;32m----> 5\u001b[0m interest \u001b[38;5;241m=\u001b[39m \u001b[43mprincipal\u001b[49m\u001b[43m \u001b[49m\u001b[38;5;241;43m*\u001b[39;49m\u001b[43m \u001b[49m\u001b[43mrate\u001b[49m \u001b[38;5;241m*\u001b[39m time\n\u001b[1;32m      6\u001b[0m \u001b[38;5;28mprint\u001b[39m(\u001b[38;5;124m\"\u001b[39m\u001b[38;5;124mInterest after 2 years:\u001b[39m\u001b[38;5;124m\"\u001b[39m, interest)\n",
      "\u001b[0;31mTypeError\u001b[0m: can't multiply sequence by non-int of type 'float'"
     ]
    }
   ],
   "source": [
    "# Calculating simple interest\n",
    "principal = float(input(\"Enter principal:\")) # Initial amount\n",
    "rate = float(input(\"Enter interest rate:\")) # 5% interest\n",
    "time = int(input(\"Enter the number of years:\")) # in years\n",
    "interest = principal * rate * time\n",
    "print(\"Interest after 2 years:\", interest)\n"
   ]
  },
  {
   "cell_type": "code",
   "execution_count": 36,
   "metadata": {},
   "outputs": [
    {
     "name": "stdout",
     "output_type": "stream",
     "text": [
      "Monthly payment: 41.67\n"
     ]
    }
   ],
   "source": [
    "# Calculating monthly payment for a loan\n",
    "principal = 10000\n",
    "rate = 0.05 # 5% annual interest\n",
    "term = 12 # 12 months\n",
    "monthly_payment = (principal * rate) / term\n",
    "print(\"Monthly payment:\", round(monthly_payment,2))"
   ]
  },
  {
   "cell_type": "code",
   "execution_count": 30,
   "metadata": {},
   "outputs": [
    {
     "name": "stdout",
     "output_type": "stream",
     "text": [
      "Can withdraw: False\n"
     ]
    }
   ],
   "source": [
    "# Checking if a transaction is within the user’s balance\n",
    "account_balance = 500\n",
    "withdrawal_amount = 700\n",
    "can_withdraw = (withdrawal_amount <= account_balance)\n",
    "print(\"Can withdraw:\", can_withdraw)"
   ]
  },
  {
   "cell_type": "code",
   "execution_count": 39,
   "metadata": {},
   "outputs": [
    {
     "name": "stdout",
     "output_type": "stream",
     "text": [
      "Monthly fee: $20\n"
     ]
    }
   ],
   "source": [
    "balance = 300\n",
    "if balance < 500:\n",
    "    fee = 20\n",
    "elif balance < 1000:\n",
    "    fee = 10\n",
    "else:\n",
    "    fee = 5\n",
    "print(f\"Monthly fee: ${fee}\")"
   ]
  },
  {
   "cell_type": "code",
   "execution_count": 40,
   "metadata": {},
   "outputs": [
    {
     "name": "stdout",
     "output_type": "stream",
     "text": [
      "Iteration: 0  balance: 1000\n",
      "Iteration: 1  balance: 3500\n",
      "Iteration: 2  balance: 5000\n",
      "Iteration: 3  balance: 8500\n",
      "Total deposit for all accounts: 8500\n"
     ]
    }
   ],
   "source": [
    "balances = [1000, 2500, 1500, 3500]\n",
    "total_deposit = 0\n",
    "i=0\n",
    "for balance in balances:\n",
    "    total_deposit += balance\n",
    "    print(\"Iteration:\",i,\" balance:\", total_deposit)\n",
    "    i+=1\n",
    "print(\"Total deposit for all accounts:\", total_deposit)"
   ]
  },
  {
   "cell_type": "code",
   "execution_count": 43,
   "metadata": {},
   "outputs": [
    {
     "name": "stdout",
     "output_type": "stream",
     "text": [
      "Access granted.\n",
      "Incorrect PIN. Attempts left: 2\n",
      "Access granted.\n",
      "Incorrect PIN. Attempts left: 1\n",
      "Incorrect PIN. Attempts left: 0\n",
      "Card blocked due to multiple incorrect attempts.\n"
     ]
    }
   ],
   "source": [
    "attempts = 3\n",
    "correct_pin = \"5678\"\n",
    "while attempts > 0:\n",
    "    pin = input(\"Enter PIN: \")\n",
    "    if pin == correct_pin:\n",
    "        print(\"Access granted.\")\n",
    "        break\n",
    "    else:\n",
    "        attempts -= 1\n",
    "        print(\"Incorrect PIN. Attempts left:\", attempts)\n",
    "if attempts == 0:\n",
    "    print(\"Card blocked due to multiple incorrect attempts.\")"
   ]
  },
  {
   "cell_type": "code",
   "execution_count": 45,
   "metadata": {},
   "outputs": [],
   "source": [
    "x=6\n",
    "if x < 100:\n",
    "    pass"
   ]
  },
  {
   "cell_type": "markdown",
   "metadata": {},
   "source": [
    "From now on we will talk about functions\n"
   ]
  },
  {
   "cell_type": "code",
   "execution_count": 47,
   "metadata": {},
   "outputs": [
    {
     "name": "stdout",
     "output_type": "stream",
     "text": [
      "The montly mortgage payment: 12808.31\n",
      "The montly mortgage payment: 12568.13\n"
     ]
    }
   ],
   "source": [
    "def calaculate_mortgage(principal, rate, term):\n",
    "    monthly_rate= rate/12\n",
    "    months = term * 12\n",
    "    monthly_payment = principal * (monthly_rate*(1+monthly_rate)**months)/((1+monthly_rate)**months -1)\n",
    "    return monthly_payment\n",
    "\n",
    "payment = calaculate_mortgage(1000000,0.15,25)\n",
    "print(\"The montly mortgage payment:\", round(payment,2))\n",
    "payment = calaculate_mortgage(1000000,0.15,35)\n",
    "print(\"The montly mortgage payment:\", round(payment,2))\n"
   ]
  },
  {
   "cell_type": "code",
   "execution_count": 54,
   "metadata": {},
   "outputs": [
    {
     "name": "stdout",
     "output_type": "stream",
     "text": [
      "Welcome aboard.\n",
      "Inside noParameters\n"
     ]
    }
   ],
   "source": [
    "def validate_loan_application(income, credit_score):\n",
    "    if income > 40000 and credit_score >= 700:\n",
    "        return \"Approved\"\n",
    "    return \"Not Approved\"\n",
    "result = validate_loan_application(45000, 690)\n",
    "def noReturn(income, credit_score):\n",
    "    if income > 40000 and credit_score >= 700:\n",
    "        print(\"Welcome aboard.\")\n",
    "    else:\n",
    "        print(\"You wish!\")\n",
    "\n",
    "def noParamenters():\n",
    "    print(\"Inside noParameters\")\n",
    "\n",
    "noReturn(45000, 720)\n",
    "noParamenters()"
   ]
  },
  {
   "cell_type": "markdown",
   "metadata": {},
   "source": [
    "Exercise on Functions "
   ]
  },
  {
   "cell_type": "code",
   "execution_count": 60,
   "metadata": {},
   "outputs": [
    {
     "name": "stdout",
     "output_type": "stream",
     "text": [
      "Your transaction is fraudulent: False\n"
     ]
    }
   ],
   "source": [
    "def isFraudulentTransaction(transaction_amount):\n",
    "    if(transaction_amount>1000):\n",
    "        return True\n",
    "    return False\n",
    "\n",
    "print(\"Your transaction is fraudulent:\", isFraudulentTransaction(1000))"
   ]
  },
  {
   "cell_type": "code",
   "execution_count": 62,
   "metadata": {},
   "outputs": [
    {
     "name": "stdout",
     "output_type": "stream",
     "text": [
      "Your transaction is fraudulent: False\n"
     ]
    }
   ],
   "source": [
    "def is_fraudulent_transaction(amount, threshold):\n",
    "    st = \"\"\n",
    "    if amount > threshold:\n",
    "        st = \"True\"\n",
    "    else:\n",
    "        st = \"False\"\n",
    "    return st\n",
    "\n",
    "print(\"Your transaction is fraudulent:\", is_fraudulent_transaction(1000,1000))"
   ]
  },
  {
   "cell_type": "code",
   "execution_count": 59,
   "metadata": {},
   "outputs": [
    {
     "name": "stdout",
     "output_type": "stream",
     "text": [
      "Your transaction is fraudulent: False\n"
     ]
    }
   ],
   "source": [
    "def is_fraudulent_transaction(amount, threshold):\n",
    "    return amount > threshold\n",
    "\n",
    "print(\"Your transaction is fraudulent:\", is_fraudulent_transaction(1000, 1000))"
   ]
  }
 ],
 "metadata": {
  "kernelspec": {
   "display_name": "Python 3",
   "language": "python",
   "name": "python3"
  },
  "language_info": {
   "codemirror_mode": {
    "name": "ipython",
    "version": 3
   },
   "file_extension": ".py",
   "mimetype": "text/x-python",
   "name": "python",
   "nbconvert_exporter": "python",
   "pygments_lexer": "ipython3",
   "version": "3.10.6"
  }
 },
 "nbformat": 4,
 "nbformat_minor": 2
}
